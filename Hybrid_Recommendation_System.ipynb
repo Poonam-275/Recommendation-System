{
  "nbformat": 4,
  "nbformat_minor": 0,
  "metadata": {
    "colab": {
      "provenance": []
    },
    "kernelspec": {
      "name": "python3",
      "display_name": "Python 3"
    },
    "language_info": {
      "name": "python"
    }
  },
  "cells": [
    {
      "cell_type": "code",
      "source": [
        "import pandas as pd\n",
        "import numpy as np\n",
        "from sklearn.feature_extraction.text import TfidfVectorizer\n",
        "from sklearn.metrics.pairwise import cosine_similarity\n",
        "from sklearn.decomposition import TruncatedSVD\n",
        "from sklearn.preprocessing import MinMaxScaler\n",
        "from sklearn.model_selection import train_test_split\n",
        "from sklearn.metrics import mean_squared_error\n",
        "import matplotlib.pyplot as plt\n",
        "import re\n",
        "import warnings\n",
        "warnings.filterwarnings('ignore')"
      ],
      "metadata": {
        "id": "mRN4yyp4tC9t"
      },
      "execution_count": 2,
      "outputs": []
    },
    {
      "cell_type": "code",
      "source": [
        "# Set random seed for reproducibility\n",
        "np.random.seed(42)"
      ],
      "metadata": {
        "id": "i-XlKFD4tGRe"
      },
      "execution_count": 3,
      "outputs": []
    },
    {
      "cell_type": "code",
      "source": [
        "# Generate synthetic dataset for Maharashtra travel destinations\n",
        "def generate_travel_data(num_users=500, num_destinations=50):\n",
        "    # List of popular Maharashtra destinations\n",
        "    destinations = [\n",
        "        \"Gateway of India, Mumbai\", \"Ajanta Caves, Aurangabad\", \"Ellora Caves, Aurangabad\",\n",
        "        \"Marine Drive, Mumbai\", \"Siddhivinayak Temple, Mumbai\", \"Shaniwar Wada, Pune\",\n",
        "        \"Lonavala Hill Station\", \"Mahabaleshwar Hill Station\", \"Pratapgad Fort\",\n",
        "        \"Raigad Fort\", \"Elephanta Caves, Mumbai\", \"Chhatrapati Shivaji Terminus, Mumbai\",\n",
        "        \"Bibi Ka Maqbara, Aurangabad\", \"Tadoba Andhari Tiger Reserve\", \"Sanjay Gandhi National Park, Mumbai\",\n",
        "        \"Ganpatipule Beach\", \"Alibaug Beach\", \"Matheran Hill Station\", \"Kaas Plateau, Satara\",\n",
        "        \"Lavasa City, Pune\", \"Kolhapur Mahalaxmi Temple\", \"Trimbakeshwar Temple, Nashik\",\n",
        "        \"Shirdi Sai Baba Temple\", \"Jejuri Khandoba Temple\", \"Mahad Raigad Fort\",\n",
        "        \"Panhala Fort, Kolhapur\", \"Sinhagad Fort, Pune\", \"Rajmachi Fort, Lonavala\",\n",
        "        \"Karla Caves, Lonavala\", \"Bhimashankar Temple\", \"Bhandardara Lake\",\n",
        "        \"Malshej Ghat\", \"Toranmal Hill Station\", \"Chikhaldara Hill Station\",\n",
        "        \"Amboli Hill Station\", \"Sawantwadi Palace\", \"Sindhudurg Fort\", \"Vijaydurg Fort\",\n",
        "        \"Murud-Janjira Fort\", \"Aamby Valley, Lonavala\", \"Imagicaa Theme Park\", \"Water Kingdom, Mumbai\",\n",
        "        \"EsselWorld, Mumbai\", \"Ramoji Film City, Hyderabad\", \"Lonar Crater Lake\",\n",
        "        \"Pench National Park\", \"Nagzira Wildlife Sanctuary\", \"Temples of Paithan\",\n",
        "        \"Nanded Gurudwara\", \"Ashtavinayak Temples\"\n",
        "    ]\n",
        "\n",
        "    # Destination categories\n",
        "    categories = [\n",
        "        \"Historical\", \"Religious\", \"Adventure\", \"Beach\", \"Hill Station\",\n",
        "        \"Wildlife\", \"Fort\", \"Park\", \"Temple\", \"City Tour\"\n",
        "    ]\n",
        "\n",
        "    # Generate destination metadata\n",
        "    dest_data = []\n",
        "    for i, dest in enumerate(destinations):\n",
        "        # Extract location from destination name\n",
        "        location = dest.split(', ')[1] if ', ' in dest else \"Maharashtra\"\n",
        "\n",
        "        # Assign random categories\n",
        "        num_categories = np.random.randint(1, 4)\n",
        "        dest_categories = np.random.choice(categories, num_categories, replace=False)\n",
        "\n",
        "        # Generate description based on categories\n",
        "        if \"Historical\" in dest_categories:\n",
        "            desc = f\"Historical site in {location} with rich cultural heritage.\"\n",
        "        elif \"Religious\" in dest_categories:\n",
        "            desc = f\"Important religious site in {location} for pilgrims.\"\n",
        "        elif \"Adventure\" in dest_categories:\n",
        "            desc = f\"Adventure destination in {location} with exciting activities.\"\n",
        "        elif \"Beach\" in dest_categories:\n",
        "            desc = f\"Beautiful beach destination in {location} with scenic views.\"\n",
        "        elif \"Hill Station\" in dest_categories:\n",
        "            desc = f\"Picturesque hill station in {location} with pleasant climate.\"\n",
        "        elif \"Wildlife\" in dest_categories:\n",
        "            desc = f\"Wildlife sanctuary in {location} with diverse flora and fauna.\"\n",
        "        else:\n",
        "            desc = f\"Popular tourist destination in {location}.\"\n",
        "\n",
        "        # Add more details based on categories\n",
        "        if \"Fort\" in dest_categories:\n",
        "            desc += \" Ancient fort with architectural significance.\"\n",
        "        if \"Temple\" in dest_categories:\n",
        "            desc += \" Sacred temple with spiritual importance.\"\n",
        "\n",
        "        dest_data.append({\n",
        "            'destination_id': i + 1,\n",
        "            'name': dest,\n",
        "            'location': location,\n",
        "            'categories': ', '.join(dest_categories),\n",
        "            'description': desc\n",
        "        })\n",
        "\n",
        "    destinations_df = pd.DataFrame(dest_data)\n",
        "\n",
        "    # Generate user ratings\n",
        "    ratings_data = []\n",
        "    for user_id in range(1, num_users + 1):\n",
        "        # Each user rates 10-40 destinations\n",
        "        num_ratings = np.random.randint(10, 41)\n",
        "        rated_destinations = np.random.choice(range(1, num_destinations + 1), num_ratings, replace=False)\n",
        "\n",
        "        for dest_id in rated_destinations:\n",
        "            # Base rating based on destination popularity (some destinations are generally more liked)\n",
        "            base_rating = 3.5\n",
        "\n",
        "            # Adjust rating based on destination ID (some destinations are more popular)\n",
        "            if dest_id % 5 == 0:  # Every 5th destination is more popular\n",
        "                base_rating += 0.5\n",
        "            elif dest_id % 7 == 0:  # Every 7th destination is less popular\n",
        "                base_rating -= 0.5\n",
        "\n",
        "            # Add some random variation\n",
        "            rating = np.random.normal(base_rating, 0.8)\n",
        "\n",
        "            # Ensure rating is between 1 and 5\n",
        "            rating = max(1, min(5, round(rating, 1)))\n",
        "\n",
        "            ratings_data.append({\n",
        "                'user_id': user_id,\n",
        "                'destination_id': dest_id,\n",
        "                'rating': rating\n",
        "            })\n",
        "\n",
        "    ratings_df = pd.DataFrame(ratings_data)\n",
        "\n",
        "    return destinations_df, ratings_df"
      ],
      "metadata": {
        "id": "5C7MfxLFtUS_"
      },
      "execution_count": 4,
      "outputs": []
    },
    {
      "cell_type": "code",
      "source": [
        "# Generate the dataset\n",
        "print(\"Generating travel dataset for Maharashtra...\")\n",
        "destinations_df, ratings_df = generate_travel_data()\n",
        "\n",
        "print(f\"Generated {len(destinations_df)} destinations and {len(ratings_df)} ratings from {ratings_df['user_id'].nunique()} users\")"
      ],
      "metadata": {
        "colab": {
          "base_uri": "https://localhost:8080/"
        },
        "id": "2ialt88ttWE_",
        "outputId": "0b45e18b-5c5e-444a-be17-4432d713ca03"
      },
      "execution_count": 5,
      "outputs": [
        {
          "output_type": "stream",
          "name": "stdout",
          "text": [
            "Generating travel dataset for Maharashtra...\n",
            "Generated 50 destinations and 12894 ratings from 500 users\n"
          ]
        }
      ]
    },
    {
      "cell_type": "code",
      "source": [
        "# Display sample data\n",
        "print(\"\\nSample destinations:\")\n",
        "print(destinations_df.head(3))\n",
        "print(\"\\nSample ratings:\")\n",
        "print(ratings_df.head(3))"
      ],
      "metadata": {
        "colab": {
          "base_uri": "https://localhost:8080/"
        },
        "id": "sjNTRmFWtaPe",
        "outputId": "6ede5164-43ea-486a-dcf4-9a8e32def32a"
      },
      "execution_count": 6,
      "outputs": [
        {
          "output_type": "stream",
          "name": "stdout",
          "text": [
            "\n",
            "Sample destinations:\n",
            "   destination_id                      name    location  \\\n",
            "0               1  Gateway of India, Mumbai      Mumbai   \n",
            "1               2  Ajanta Caves, Aurangabad  Aurangabad   \n",
            "2               3  Ellora Caves, Aurangabad  Aurangabad   \n",
            "\n",
            "                        categories  \\\n",
            "0  Wildlife, Historical, City Tour   \n",
            "1                       Historical   \n",
            "2                  Fort, Adventure   \n",
            "\n",
            "                                         description  \n",
            "0  Historical site in Mumbai with rich cultural h...  \n",
            "1  Historical site in Aurangabad with rich cultur...  \n",
            "2  Adventure destination in Aurangabad with excit...  \n",
            "\n",
            "Sample ratings:\n",
            "   user_id  destination_id  rating\n",
            "0        1               9     3.6\n",
            "1        1              31     3.2\n",
            "2        1              11     3.6\n"
          ]
        }
      ]
    },
    {
      "cell_type": "code",
      "source": [
        "# Content-Based Filtering\n",
        "print(\"\\nBuilding Content-Based Filtering Model...\")\n",
        "\n",
        "# Create TF-IDF matrix from destination descriptions and categories\n",
        "tfidf = TfidfVectorizer(stop_words='english')\n",
        "tfidf_matrix = tfidf.fit_transform(destinations_df['description'] + \" \" + destinations_df['categories'])\n",
        "\n",
        "# Compute cosine similarity matrix\n",
        "content_similarity = cosine_similarity(tfidf_matrix, tfidf_matrix)"
      ],
      "metadata": {
        "colab": {
          "base_uri": "https://localhost:8080/"
        },
        "id": "ynPb4gvPteOZ",
        "outputId": "17e59344-42c4-4b41-a73e-363d3f737013"
      },
      "execution_count": 7,
      "outputs": [
        {
          "output_type": "stream",
          "name": "stdout",
          "text": [
            "\n",
            "Building Content-Based Filtering Model...\n"
          ]
        }
      ]
    },
    {
      "cell_type": "code",
      "source": [
        "# Function to get content-based recommendations\n",
        "def content_based_recommendations(destination_id, top_n=10):\n",
        "    # Get the index of the destination\n",
        "    idx = destinations_df[destinations_df['destination_id'] == destination_id].index[0]\n",
        "\n",
        "    # Get similarity scores for all destinations\n",
        "    sim_scores = list(enumerate(content_similarity[idx]))\n",
        "\n",
        "    # Sort destinations based on similarity scores\n",
        "    sim_scores = sorted(sim_scores, key=lambda x: x[1], reverse=True)\n",
        "\n",
        "    # Get the top N most similar destinations (excluding itself)\n",
        "    sim_scores = sim_scores[1:top_n+1]\n",
        "\n",
        "    # Get destination indices\n",
        "    destination_indices = [i[0] for i in sim_scores]\n",
        "\n",
        "    # Return the top N most similar destinations\n",
        "    return destinations_df.iloc[destination_indices]"
      ],
      "metadata": {
        "id": "ggZYOwNgtjAy"
      },
      "execution_count": 8,
      "outputs": []
    },
    {
      "cell_type": "code",
      "source": [
        "# Collaborative Filtering using Matrix Factorization\n",
        "print(\"Building Collaborative Filtering Model...\")\n",
        "\n",
        "# Create user-item matrix\n",
        "user_item_matrix = ratings_df.pivot_table(index='user_id', columns='destination_id', values='rating').fillna(0)\n",
        "\n",
        "# Normalize the data\n",
        "user_item_matrix_norm = user_item_matrix - user_item_matrix.mean(axis=1).values.reshape(-1, 1)\n",
        "\n",
        "# Apply SVD for matrix factorization\n",
        "n_components = 50\n",
        "svd = TruncatedSVD(n_components=n_components, random_state=42)\n",
        "user_features = svd.fit_transform(user_item_matrix_norm)\n",
        "item_features = svd.components_.T\n",
        "\n",
        "# Reconstruct the matrix\n",
        "predicted_ratings = np.dot(user_features, item_features.T) + user_item_matrix.mean(axis=1).values.reshape(-1, 1)\n",
        "\n",
        "# Convert back to DataFrame\n",
        "predicted_ratings_df = pd.DataFrame(predicted_ratings,\n",
        "                                   index=user_item_matrix.index,\n",
        "                                   columns=user_item_matrix.columns)"
      ],
      "metadata": {
        "colab": {
          "base_uri": "https://localhost:8080/"
        },
        "id": "-2Cliw1utlCx",
        "outputId": "6bec7972-cbba-4586-dfbd-97a7506645e8"
      },
      "execution_count": 9,
      "outputs": [
        {
          "output_type": "stream",
          "name": "stdout",
          "text": [
            "Building Collaborative Filtering Model...\n"
          ]
        }
      ]
    },
    {
      "cell_type": "code",
      "source": [
        "# Function to get collaborative filtering recommendations\n",
        "def collaborative_recommendations(user_id, top_n=10):\n",
        "    # Get predicted ratings for the user\n",
        "    user_ratings = predicted_ratings_df.loc[user_id]\n",
        "\n",
        "    # Get destinations already rated by the user\n",
        "    rated_destinations = ratings_df[ratings_df['user_id'] == user_id]['destination_id'].values\n",
        "\n",
        "    # Filter out already rated destinations\n",
        "    recommendations = user_ratings[~user_ratings.index.isin(rated_destinations)]\n",
        "\n",
        "    # Sort by predicted rating\n",
        "    recommendations = recommendations.sort_values(ascending=False)\n",
        "\n",
        "    # Get top N recommendations\n",
        "    top_recommendations = recommendations.head(top_n)\n",
        "\n",
        "    # Return destination details\n",
        "    return destinations_df[destinations_df['destination_id'].isin(top_recommendations.index)]"
      ],
      "metadata": {
        "id": "jmA800aztpjR"
      },
      "execution_count": 10,
      "outputs": []
    },
    {
      "cell_type": "code",
      "source": [
        "# Hybrid Recommendation System\n",
        "print(\"Building Hybrid Recommendation System...\")\n",
        "\n",
        "def hybrid_recommendations(user_id, destination_id=None, top_n=10, content_weight=0.4, collab_weight=0.6):\n",
        "    # If no destination_id provided, use the highest rated destination by the user\n",
        "    if destination_id is None:\n",
        "        user_ratings = ratings_df[ratings_df['user_id'] == user_id]\n",
        "        if len(user_ratings) > 0:\n",
        "            destination_id = user_ratings.sort_values('rating', ascending=False).iloc[0]['destination_id']\n",
        "        else:\n",
        "            # If user has no ratings, use most popular destination\n",
        "            destination_id = ratings_df.groupby('destination_id')['rating'].mean().sort_values(ascending=False).index[0]\n",
        "\n",
        "    # Get content-based recommendations\n",
        "    content_recs = content_based_recommendations(destination_id, top_n*3)\n",
        "    content_recs['content_score'] = range(len(content_recs), 0, -1)  # Higher score for better recommendations\n",
        "\n",
        "    # Get collaborative filtering recommendations\n",
        "    collab_recs = collaborative_recommendations(user_id, top_n*3)\n",
        "    collab_recs = collab_recs.merge(\n",
        "        predicted_ratings_df.loc[user_id].reset_index(),\n",
        "        left_on='destination_id', right_on='destination_id'\n",
        "    )\n",
        "    collab_recs.rename(columns={user_id: 'collab_score'}, inplace=True)\n",
        "\n",
        "    # Merge the two recommendation sets\n",
        "    hybrid_recs = pd.merge(\n",
        "        content_recs[['destination_id', 'content_score']],\n",
        "        collab_recs[['destination_id', 'collab_score']],\n",
        "        on='destination_id',\n",
        "        how='outer'\n",
        "    ).fillna(0)\n",
        "\n",
        "    # Normalize scores\n",
        "    scaler = MinMaxScaler()\n",
        "    hybrid_recs['content_score_norm'] = scaler.fit_transform(hybrid_recs[['content_score']])\n",
        "    hybrid_recs['collab_score_norm'] = scaler.fit_transform(hybrid_recs[['collab_score']])\n",
        "\n",
        "    # Calculate hybrid score\n",
        "    hybrid_recs['hybrid_score'] = (content_weight * hybrid_recs['content_score_norm'] +\n",
        "                                  collab_weight * hybrid_recs['collab_score_norm'])\n",
        "\n",
        "    # Sort by hybrid score\n",
        "    hybrid_recs = hybrid_recs.sort_values('hybrid_score', ascending=False)\n",
        "\n",
        "    # Get top N recommendations\n",
        "    top_hybrid = hybrid_recs.head(top_n)\n",
        "\n",
        "    # Merge with destination details\n",
        "    result = top_hybrid.merge(destinations_df, on='destination_id')\n",
        "\n",
        "    return result[['destination_id', 'name', 'location', 'categories', 'hybrid_score']]"
      ],
      "metadata": {
        "colab": {
          "base_uri": "https://localhost:8080/"
        },
        "id": "vdihWAWEts2U",
        "outputId": "3ebb83f0-b893-44bf-86c6-9a082f354667"
      },
      "execution_count": 11,
      "outputs": [
        {
          "output_type": "stream",
          "name": "stdout",
          "text": [
            "Building Hybrid Recommendation System...\n"
          ]
        }
      ]
    },
    {
      "cell_type": "code",
      "source": [
        "# Evaluation\n",
        "print(\"Evaluating the recommendation system...\")\n",
        "\n",
        "# Split ratings into train and test sets\n",
        "train_ratings, test_ratings = train_test_split(ratings_df, test_size=0.2, random_state=42)\n",
        "\n",
        "# Create train user-item matrix\n",
        "train_matrix = train_ratings.pivot_table(index='user_id', columns='destination_id', values='rating').fillna(0)\n",
        "\n",
        "# Normalize the train data\n",
        "train_matrix_norm = train_matrix - train_matrix.mean(axis=1).values.reshape(-1, 1)\n",
        "\n",
        "# Apply SVD on train data\n",
        "svd_train = TruncatedSVD(n_components=n_components, random_state=42)\n",
        "user_features_train = svd_train.fit_transform(train_matrix_norm)\n",
        "item_features_train = svd_train.components_.T\n",
        "\n",
        "# Reconstruct the matrix\n",
        "predicted_ratings_train = np.dot(user_features_train, item_features_train.T) + train_matrix.mean(axis=1).values.reshape(-1, 1)\n",
        "\n",
        "# Calculate RMSE for collaborative filtering\n",
        "test_matrix = test_ratings.pivot_table(index='user_id', columns='destination_id', values='rating').fillna(0)\n",
        "\n",
        "# Align test matrix with train matrix\n",
        "test_matrix_aligned = test_matrix.reindex(index=train_matrix.index, columns=train_matrix.columns, fill_value=0)\n",
        "\n",
        "# Calculate RMSE\n",
        "y_true = []\n",
        "y_pred = []\n",
        "for _, row in test_ratings.iterrows():\n",
        "    user_id = row['user_id']\n",
        "    dest_id = row['destination_id']\n",
        "\n",
        "    if user_id in train_matrix.index and dest_id in train_matrix.columns:\n",
        "        y_true.append(row['rating'])\n",
        "        y_pred.append(predicted_ratings_train[train_matrix.index.get_loc(user_id),\n",
        "                                             train_matrix.columns.get_loc(dest_id)])\n",
        "\n",
        "rmse = np.sqrt(mean_squared_error(y_true, y_pred))\n",
        "print(f\"Collaborative Filtering RMSE: {rmse:.4f}\")\n",
        "\n",
        "# Evaluate precision and recall for hybrid recommendations\n",
        "def evaluate_hybrid(top_k=10):\n",
        "    # For a sample of users\n",
        "    sample_users = ratings_df['user_id'].unique()[:50]  # Use first 50 users for evaluation\n",
        "\n",
        "    precisions = []\n",
        "    recalls = []\n",
        "\n",
        "    for user_id in sample_users:\n",
        "        # Get user's highly rated destinations (rating >= 4)\n",
        "        user_high_ratings = ratings_df[(ratings_df['user_id'] == user_id) & (ratings_df['rating'] >= 4)]\n",
        "        relevant_items = set(user_high_ratings['destination_id'].values)\n",
        "\n",
        "        if len(relevant_items) == 0:\n",
        "            continue\n",
        "\n",
        "        # Get hybrid recommendations\n",
        "        hybrid_recs = hybrid_recommendations(user_id, top_n=top_k)\n",
        "        recommended_items = set(hybrid_recs['destination_id'].values)\n",
        "\n",
        "        # Calculate precision and recall\n",
        "        if len(recommended_items) > 0:\n",
        "            true_positives = len(relevant_items.intersection(recommended_items))\n",
        "            precision = true_positives / len(recommended_items)\n",
        "            recall = true_positives / len(relevant_items)\n",
        "\n",
        "            precisions.append(precision)\n",
        "            recalls.append(recall)\n",
        "\n",
        "    avg_precision = np.mean(precisions) if precisions else 0\n",
        "    avg_recall = np.mean(recalls) if recalls else 0\n",
        "\n",
        "    return avg_precision, avg_recall"
      ],
      "metadata": {
        "colab": {
          "base_uri": "https://localhost:8080/"
        },
        "id": "1djvDm6dtxzV",
        "outputId": "140cff89-f595-42b2-f34b-b85d1c062ed4"
      },
      "execution_count": 12,
      "outputs": [
        {
          "output_type": "stream",
          "name": "stdout",
          "text": [
            "Evaluating the recommendation system...\n",
            "Collaborative Filtering RMSE: 3.6243\n"
          ]
        }
      ]
    },
    {
      "cell_type": "code",
      "execution_count": 13,
      "metadata": {
        "colab": {
          "base_uri": "https://localhost:8080/",
          "height": 927
        },
        "id": "Hb_JCmfBsDs7",
        "outputId": "7d61df39-8786-413b-abad-5875739895af"
      },
      "outputs": [
        {
          "output_type": "stream",
          "name": "stdout",
          "text": [
            "Precision@5: 0.1480, Recall@5: 0.0824\n",
            "Precision@10: 0.1500, Recall@10: 0.1804\n",
            "Precision@15: 0.1613, Recall@15: 0.2899\n",
            "\n",
            "Sample Recommendations for User 1:\n",
            "                                   name     location  \\\n",
            "0                    Temples of Paithan  Maharashtra   \n",
            "1                 Matheran Hill Station  Maharashtra   \n",
            "2              Gateway of India, Mumbai       Mumbai   \n",
            "3            Mahabaleshwar Hill Station  Maharashtra   \n",
            "4                   Imagicaa Theme Park  Maharashtra   \n",
            "5              Ajanta Caves, Aurangabad   Aurangabad   \n",
            "6                         Alibaug Beach  Maharashtra   \n",
            "7                Jejuri Khandoba Temple  Maharashtra   \n",
            "8                Aamby Valley, Lonavala     Lonavala   \n",
            "9  Chhatrapati Shivaji Terminus, Mumbai       Mumbai   \n",
            "\n",
            "                        categories  hybrid_score  \n",
            "0      Adventure, Historical, Fort      0.893333  \n",
            "1                       Historical      0.858824  \n",
            "2  Wildlife, Historical, City Tour      0.849412  \n",
            "3            Historical, Adventure      0.845490  \n",
            "4            City Tour, Historical      0.832157  \n",
            "5                       Historical      0.792157  \n",
            "6         Historical, Park, Temple      0.765490  \n",
            "7         Historical, Fort, Temple      0.738824  \n",
            "8  Historical, Beach, Hill Station      0.734902  \n",
            "9   Hill Station, Beach, Religious      0.725490  \n"
          ]
        },
        {
          "output_type": "display_data",
          "data": {
            "text/plain": [
              "<Figure size 1200x500 with 2 Axes>"
            ],
            "image/png": "[encoded data removed]"
          },
          "metadata": {}
        },
        {
          "output_type": "stream",
          "name": "stdout",
          "text": [
            "\n",
            "Recommendation system implementation completed!\n",
            "Metrics visualization saved as 'recommendation_metrics.png'\n"
          ]
        }
      ],
      "source": [
        "# Evaluate for different values of K\n",
        "k_values = [5, 10, 15]\n",
        "results = {}\n",
        "\n",
        "for k in k_values:\n",
        "    precision, recall = evaluate_hybrid(top_k=k)\n",
        "    results[k] = {'Precision': precision, 'Recall': recall}\n",
        "    print(f\"Precision@{k}: {precision:.4f}, Recall@{k}: {recall:.4f}\")\n",
        "\n",
        "# Generate sample recommendations\n",
        "print(\"\\nSample Recommendations for User 1:\")\n",
        "user_id = 1\n",
        "sample_recommendations = hybrid_recommendations(user_id, top_n=10)\n",
        "print(sample_recommendations[['name', 'location', 'categories', 'hybrid_score']])\n",
        "\n",
        "# Visualization\n",
        "plt.figure(figsize=(12, 5))\n",
        "\n",
        "# Plot Precision@K and Recall@K\n",
        "plt.subplot(1, 2, 1)\n",
        "precisions = [results[k]['Precision'] for k in k_values]\n",
        "recalls = [results[k]['Recall'] for k in k_values]\n",
        "plt.plot(k_values, precisions, marker='o', label='Precision@K')\n",
        "plt.plot(k_values, recalls, marker='o', label='Recall@K')\n",
        "plt.xlabel('K')\n",
        "plt.ylabel('Score')\n",
        "plt.title('Precision and Recall at K')\n",
        "plt.legend()\n",
        "plt.grid(True)\n",
        "\n",
        "# Plot RMSE\n",
        "plt.subplot(1, 2, 2)\n",
        "plt.bar(['CF Model'], [rmse], color='skyblue')\n",
        "plt.ylabel('RMSE')\n",
        "plt.title('Collaborative Filtering RMSE')\n",
        "plt.ylim(0, max(rmse * 1.5, 1))\n",
        "\n",
        "plt.tight_layout()\n",
        "plt.savefig('recommendation_metrics.png')\n",
        "plt.show()\n",
        "\n",
        "print(\"\\nRecommendation system implementation completed!\")\n",
        "print(\"Metrics visualization saved as 'recommendation_metrics.png'\")"
      ]
    }
  ]
}