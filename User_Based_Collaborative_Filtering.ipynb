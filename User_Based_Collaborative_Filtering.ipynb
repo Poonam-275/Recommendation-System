{
  "cells": [
    {
      "cell_type": "code",
      "source": [
        "# Travel Destination Recommendation System using User-Based Collaborative Filtering"
      ],
      "metadata": {
        "id": "7VOdc4vZhBgL"
      },
      "id": "7VOdc4vZhBgL",
      "execution_count": 57,
      "outputs": []
    },
    {
      "cell_type": "code",
      "source": [
        "import pandas as pd\n",
        "import numpy as np\n",
        "import matplotlib.pyplot as plt\n",
        "import seaborn as sns"
      ],
      "metadata": {
        "id": "DZbXjCRChFMj"
      },
      "id": "DZbXjCRChFMj",
      "execution_count": 58,
      "outputs": []
    },
    {
      "cell_type": "code",
      "source": [
        "print(\"🏛️ Travel Destination Recommendation System\")\n",
        "print(\"=\" * 50)"
      ],
      "metadata": {
        "colab": {
          "base_uri": "https://localhost:8080/"
        },
        "id": "xEE3KwRwhHkj",
        "outputId": "03e91c77-b938-401c-8e3b-e0312e7d66c8"
      },
      "id": "xEE3KwRwhHkj",
      "execution_count": 59,
      "outputs": [
        {
          "output_type": "stream",
          "name": "stdout",
          "text": [
            "🏛️ Travel Destination Recommendation System\n",
            "==================================================\n"
          ]
        }
      ]
    },
    {
      "cell_type": "code",
      "source": [
        "# Sample travel destinations data from Maharashtra\n",
        "destinations_data = {\n",
        "    'name': [\n",
        "        'Gateway of India, Mumbai',\n",
        "        'Ajanta Caves, Aurangabad',\n",
        "        'Ellora Caves, Aurangabad',\n",
        "        'Lonavala Hill Station',\n",
        "        'Mahabaleshwar',\n",
        "        'Shaniwar Wada, Pune',\n",
        "        'Elephanta Caves, Mumbai',\n",
        "        'Shirdi Sai Baba Temple',\n",
        "        'Raigad Fort',\n",
        "        'Marine Drive, Mumbai',\n",
        "        'Aga Khan Palace, Pune',\n",
        "        'Sinhagad Fort, Pune',\n",
        "        'Matheran Hill Station',\n",
        "        'Panchgani Hill Station',\n",
        "        'Kolhapur Mahalaxmi Temple',\n",
        "        'Aurangabad Bibi Ka Maqbara',\n",
        "        'Nashik Sula Vineyards',\n",
        "        'Bhimashankar Temple',\n",
        "        'Alibaug Beach',\n",
        "        'Lavasa Hill City'\n",
        "    ],\n",
        "    'category': [\n",
        "        'Historical Monument', 'UNESCO Heritage', 'UNESCO Heritage',\n",
        "        'Hill Station', 'Hill Station', 'Historical Monument',\n",
        "        'UNESCO Heritage', 'Religious Site', 'Historical Fort', 'Waterfront',\n",
        "        'Historical Palace', 'Historical Fort', 'Hill Station',\n",
        "        'Hill Station', 'Religious Site', 'Historical Monument',\n",
        "        'Wine Tourism', 'Religious Site', 'Beach Resort', 'Modern Hill City'\n",
        "    ],\n",
        "    'city': [\n",
        "        'Mumbai', 'Aurangabad', 'Aurangabad', 'Lonavala', 'Mahabaleshwar',\n",
        "        'Pune', 'Mumbai', 'Shirdi', 'Raigad', 'Mumbai',\n",
        "        'Pune', 'Pune', 'Matheran', 'Panchgani', 'Kolhapur',\n",
        "        'Aurangabad', 'Nashik', 'Bhimashankar', 'Alibaug', 'Lavasa'\n",
        "    ],\n",
        "    'rating': [4.3, 4.6, 4.7, 4.2, 4.4, 4.1, 4.3, 4.5, 4.2, 4.4,\n",
        "               4.0, 4.3, 4.5, 4.3, 4.4, 4.2, 4.1, 4.6, 4.0, 3.9]\n",
        "}"
      ],
      "metadata": {
        "id": "uYkU_HxnhKab"
      },
      "id": "uYkU_HxnhKab",
      "execution_count": 60,
      "outputs": []
    },
    {
      "cell_type": "code",
      "source": [
        "# Create destinations DataFrame\n",
        "destinations_df = pd.DataFrame(destinations_data)\n",
        "print(\"📍 Maharashtra Travel Destinations:\")\n",
        "print(destinations_df[['name', 'category', 'city', 'rating']].head(10))"
      ],
      "metadata": {
        "colab": {
          "base_uri": "https://localhost:8080/"
        },
        "id": "qDe-8-rahPfk",
        "outputId": "23f90872-6bbe-4091-9517-fb5c3ae2222f"
      },
      "id": "qDe-8-rahPfk",
      "execution_count": 61,
      "outputs": [
        {
          "output_type": "stream",
          "name": "stdout",
          "text": [
            "📍 Maharashtra Travel Destinations:\n",
            "                       name             category           city  rating\n",
            "0  Gateway of India, Mumbai  Historical Monument         Mumbai     4.3\n",
            "1  Ajanta Caves, Aurangabad      UNESCO Heritage     Aurangabad     4.6\n",
            "2  Ellora Caves, Aurangabad      UNESCO Heritage     Aurangabad     4.7\n",
            "3     Lonavala Hill Station         Hill Station       Lonavala     4.2\n",
            "4             Mahabaleshwar         Hill Station  Mahabaleshwar     4.4\n",
            "5       Shaniwar Wada, Pune  Historical Monument           Pune     4.1\n",
            "6   Elephanta Caves, Mumbai      UNESCO Heritage         Mumbai     4.3\n",
            "7    Shirdi Sai Baba Temple       Religious Site         Shirdi     4.5\n",
            "8               Raigad Fort      Historical Fort         Raigad     4.2\n",
            "9      Marine Drive, Mumbai           Waterfront         Mumbai     4.4\n"
          ]
        }
      ]
    },
    {
      "cell_type": "code",
      "source": [
        "# Create sample user-destination rating matrix\n",
        "user_destination_ratings = {\n",
        "    'Traveler_A': [5, 0, 0, 4, 3, 0, 4, 0, 0, 5, 0, 0, 4, 3, 0, 0, 0, 0, 0, 0],\n",
        "    'Traveler_B': [0, 5, 5, 0, 0, 0, 4, 0, 0, 0, 0, 0, 0, 0, 0, 4, 0, 0, 0, 0],\n",
        "    'Traveler_C': [0, 0, 0, 5, 5, 0, 0, 0, 3, 0, 0, 0, 5, 4, 0, 0, 0, 0, 0, 4],\n",
        "    'Traveler_D': [3, 0, 0, 0, 0, 4, 0, 5, 4, 0, 3, 4, 0, 0, 4, 0, 0, 5, 0, 0],\n",
        "    'Traveler_E': [4, 0, 0, 3, 0, 0, 0, 0, 0, 5, 0, 0, 0, 0, 0, 0, 4, 0, 5, 0],\n",
        "    'Traveler_F': [0, 4, 4, 0, 0, 5, 5, 0, 5, 0, 4, 5, 0, 0, 0, 3, 0, 0, 0, 0]\n",
        "}"
      ],
      "metadata": {
        "id": "gJmMzXp0hSpM"
      },
      "id": "gJmMzXp0hSpM",
      "execution_count": 62,
      "outputs": []
    },
    {
      "cell_type": "code",
      "source": [
        "# Create rating matrix DataFrame\n",
        "destination_names = destinations_df['name'].tolist()\n",
        "ratings_df = pd.DataFrame(user_destination_ratings, index=destination_names)\n",
        "ratings_matrix = ratings_df.T  # Users as rows, destinations as columns\n",
        "\n",
        "print(\"\\n🎯 User-Destination Rating Matrix:\")\n",
        "print(ratings_matrix.head())"
      ],
      "metadata": {
        "colab": {
          "base_uri": "https://localhost:8080/"
        },
        "id": "IUCP1CVShVc8",
        "outputId": "240a4510-9153-4101-dcaf-cfee3a72aa97"
      },
      "id": "IUCP1CVShVc8",
      "execution_count": 63,
      "outputs": [
        {
          "output_type": "stream",
          "name": "stdout",
          "text": [
            "\n",
            "🎯 User-Destination Rating Matrix:\n",
            "            Gateway of India, Mumbai  Ajanta Caves, Aurangabad  \\\n",
            "Traveler_A                         5                         0   \n",
            "Traveler_B                         0                         5   \n",
            "Traveler_C                         0                         0   \n",
            "Traveler_D                         3                         0   \n",
            "Traveler_E                         4                         0   \n",
            "\n",
            "            Ellora Caves, Aurangabad  Lonavala Hill Station  Mahabaleshwar  \\\n",
            "Traveler_A                         0                      4              3   \n",
            "Traveler_B                         5                      0              0   \n",
            "Traveler_C                         0                      5              5   \n",
            "Traveler_D                         0                      0              0   \n",
            "Traveler_E                         0                      3              0   \n",
            "\n",
            "            Shaniwar Wada, Pune  Elephanta Caves, Mumbai  \\\n",
            "Traveler_A                    0                        4   \n",
            "Traveler_B                    0                        4   \n",
            "Traveler_C                    0                        0   \n",
            "Traveler_D                    4                        0   \n",
            "Traveler_E                    0                        0   \n",
            "\n",
            "            Shirdi Sai Baba Temple  Raigad Fort  Marine Drive, Mumbai  \\\n",
            "Traveler_A                       0            0                     5   \n",
            "Traveler_B                       0            0                     0   \n",
            "Traveler_C                       0            3                     0   \n",
            "Traveler_D                       5            4                     0   \n",
            "Traveler_E                       0            0                     5   \n",
            "\n",
            "            Aga Khan Palace, Pune  Sinhagad Fort, Pune  Matheran Hill Station  \\\n",
            "Traveler_A                      0                    0                      4   \n",
            "Traveler_B                      0                    0                      0   \n",
            "Traveler_C                      0                    0                      5   \n",
            "Traveler_D                      3                    4                      0   \n",
            "Traveler_E                      0                    0                      0   \n",
            "\n",
            "            Panchgani Hill Station  Kolhapur Mahalaxmi Temple  \\\n",
            "Traveler_A                       3                          0   \n",
            "Traveler_B                       0                          0   \n",
            "Traveler_C                       4                          0   \n",
            "Traveler_D                       0                          4   \n",
            "Traveler_E                       0                          0   \n",
            "\n",
            "            Aurangabad Bibi Ka Maqbara  Nashik Sula Vineyards  \\\n",
            "Traveler_A                           0                      0   \n",
            "Traveler_B                           4                      0   \n",
            "Traveler_C                           0                      0   \n",
            "Traveler_D                           0                      0   \n",
            "Traveler_E                           0                      4   \n",
            "\n",
            "            Bhimashankar Temple  Alibaug Beach  Lavasa Hill City  \n",
            "Traveler_A                    0              0                 0  \n",
            "Traveler_B                    0              0                 0  \n",
            "Traveler_C                    0              0                 4  \n",
            "Traveler_D                    5              0                 0  \n",
            "Traveler_E                    0              5                 0  \n"
          ]
        }
      ]
    },
    {
      "cell_type": "code",
      "source": [
        "# Function to calculate Pearson correlation between two users\n",
        "def pearson_correlation(user1_ratings, user2_ratings):\n",
        "    \"\"\"Calculate Pearson correlation between two users\"\"\"\n",
        "    # Find common rated items (non-zero ratings)\n",
        "    user1_nonzero = user1_ratings > 0\n",
        "    user2_nonzero = user2_ratings > 0\n",
        "    common_items = user1_nonzero & user2_nonzero\n",
        "\n",
        "    if common_items.sum() < 2:  # Need at least 2 common items\n",
        "        return 0.0\n",
        "\n",
        "    # Get ratings for common items\n",
        "    u1_common = user1_ratings[common_items]\n",
        "    u2_common = user2_ratings[common_items]\n",
        "\n",
        "    # Calculate Pearson correlation\n",
        "    correlation = np.corrcoef(u1_common, u2_common)[0, 1]\n",
        "\n",
        "    # Handle NaN (when all ratings are the same)\n",
        "    if np.isnan(correlation):\n",
        "        return 0.0\n",
        "\n",
        "    return correlation"
      ],
      "metadata": {
        "id": "qWoFZpjJhYxU"
      },
      "id": "qWoFZpjJhYxU",
      "execution_count": 64,
      "outputs": []
    },
    {
      "cell_type": "code",
      "source": [
        "# Compute user similarity matrix manually\n",
        "print(\"\\n📊 Computing User Similarities...\")\n",
        "users = list(ratings_matrix.index)\n",
        "similarity_matrix = pd.DataFrame(index=users, columns=users, dtype=float)\n",
        "\n",
        "for user1 in users:\n",
        "    for user2 in users:\n",
        "        if user1 == user2:\n",
        "            similarity_matrix.loc[user1, user2] = 1.0\n",
        "        else:\n",
        "            user1_ratings = ratings_matrix.loc[user1]\n",
        "            user2_ratings = ratings_matrix.loc[user2]\n",
        "            similarity = pearson_correlation(user1_ratings, user2_ratings)\n",
        "            similarity_matrix.loc[user1, user2] = similarity\n",
        "\n",
        "print(\"\\n👥 User Similarity Matrix (Pearson Correlation):\")\n",
        "print(similarity_matrix.round(3))"
      ],
      "metadata": {
        "colab": {
          "base_uri": "https://localhost:8080/"
        },
        "id": "5kfEDJ6YhjId",
        "outputId": "7be93cc8-edbe-481a-ae6f-afce94184db5"
      },
      "id": "5kfEDJ6YhjId",
      "execution_count": 65,
      "outputs": [
        {
          "output_type": "stream",
          "name": "stdout",
          "text": [
            "\n",
            "📊 Computing User Similarities...\n",
            "\n",
            "👥 User Similarity Matrix (Pearson Correlation):\n",
            "            Traveler_A  Traveler_B  Traveler_C  Traveler_D  Traveler_E  \\\n",
            "Traveler_A       1.000         0.0       0.577         0.0       0.866   \n",
            "Traveler_B       0.000         1.0       0.000         0.0       0.000   \n",
            "Traveler_C       0.577         0.0       1.000         0.0       0.000   \n",
            "Traveler_D       0.000         0.0       0.000         1.0       0.000   \n",
            "Traveler_E       0.866         0.0       0.000         0.0       1.000   \n",
            "Traveler_F       0.000         0.0       0.000         1.0       0.000   \n",
            "\n",
            "            Traveler_F  \n",
            "Traveler_A         0.0  \n",
            "Traveler_B         0.0  \n",
            "Traveler_C         0.0  \n",
            "Traveler_D         1.0  \n",
            "Traveler_E         0.0  \n",
            "Traveler_F         1.0  \n"
          ]
        }
      ]
    },
    {
      "cell_type": "code",
      "source": [
        "# Visualize similarity matrix\n",
        "plt.figure(figsize=(8, 6))\n",
        "sns.heatmap(similarity_matrix.astype(float), annot=True, cmap='coolwarm', center=0,\n",
        "            square=True, fmt='.2f', cbar_kws={'label': 'Similarity Score'})\n",
        "plt.title('User Similarity Matrix\\n(Pearson Correlation)')\n",
        "plt.tight_layout()\n",
        "plt.show()"
      ],
      "metadata": {
        "colab": {
          "base_uri": "https://localhost:8080/",
          "height": 607
        },
        "id": "3Cc_EdvQhnYu",
        "outputId": "a797e524-9a93-4382-d8a7-4906d9df4c3c"
      },
      "id": "3Cc_EdvQhnYu",
      "execution_count": 66,
      "outputs": [
        {
          "output_type": "display_data",
          "data": {
            "text/plain": [
              "<Figure size 800x600 with 2 Axes>"
            ],
            "image/png": "[encoded data removed]"
          },
          "metadata": {}
        }
      ]
    },
    {
      "cell_type": "code",
      "source": [
        "# Function to find k-nearest neighbors\n",
        "def get_k_nearest_neighbors(sim_matrix, user, k=2):\n",
        "    \"\"\"Find k most similar users to the given user\"\"\"\n",
        "    user_similarities = sim_matrix.loc[user].drop(user)  # Remove self-similarity\n",
        "    # Convert to numeric and sort\n",
        "    user_similarities = pd.to_numeric(user_similarities, errors='coerce').fillna(0)\n",
        "    return user_similarities.sort_values(ascending=False).head(k)"
      ],
      "metadata": {
        "id": "iJ3RK4b6hrXn"
      },
      "id": "iJ3RK4b6hrXn",
      "execution_count": 67,
      "outputs": []
    },
    {
      "cell_type": "code",
      "source": [
        "# Function to recommend destinations\n",
        "def recommend_destinations(ratings, similarity_matrix, user, k=2, top_n=5):\n",
        "    \"\"\"Recommend destinations for a user based on similar users' preferences\"\"\"\n",
        "    # Find k nearest neighbors\n",
        "    neighbors = get_k_nearest_neighbors(similarity_matrix, user, k)\n",
        "\n",
        "    if neighbors.empty or neighbors.max() <= 0:\n",
        "        return pd.Series([], dtype=float)\n",
        "\n",
        "    # Calculate weighted scores\n",
        "    weighted_scores = pd.Series(0.0, index=ratings.columns)\n",
        "    similarity_sum = 0\n",
        "\n",
        "    for neighbor, sim_score in neighbors.items():\n",
        "        if sim_score > 0:  # Only consider positively correlated users\n",
        "            neighbor_ratings = ratings.loc[neighbor]\n",
        "            weighted_scores += neighbor_ratings * sim_score\n",
        "            similarity_sum += sim_score\n",
        "\n",
        "    # Normalize by similarity sum\n",
        "    if similarity_sum > 0:\n",
        "        weighted_scores = weighted_scores / similarity_sum\n",
        "\n",
        "    # Filter out already visited destinations (rated > 0)\n",
        "    user_rated = ratings.loc[user]\n",
        "    unvisited_destinations = weighted_scores[user_rated == 0]\n",
        "\n",
        "    # Return top recommendations\n",
        "    recommendations = unvisited_destinations.sort_values(ascending=False).head(top_n)\n",
        "    return recommendations[recommendations > 0]  # Only positive scores"
      ],
      "metadata": {
        "id": "SpMumRjrhuxu"
      },
      "id": "SpMumRjrhuxu",
      "execution_count": 68,
      "outputs": []
    },
    {
      "cell_type": "code",
      "source": [
        "# Function to get destination details\n",
        "def get_destination_details(destination_name, destinations_df):\n",
        "    \"\"\"Get details about a specific destination\"\"\"\n",
        "    dest_info = destinations_df[destinations_df['name'] == destination_name]\n",
        "    if not dest_info.empty:\n",
        "        return dest_info.iloc[0]\n",
        "    return None"
      ],
      "metadata": {
        "id": "cQsuHXmHhz_G"
      },
      "id": "cQsuHXmHhz_G",
      "execution_count": 69,
      "outputs": []
    },
    {
      "cell_type": "code",
      "source": [
        "# Function to display recommendations with details\n",
        "def display_recommendations(user, recommendations, destinations_df):\n",
        "    \"\"\"Display recommendations with destination details\"\"\"\n",
        "    print(f\"\\n🎯 Top Destination Recommendations for {user}:\")\n",
        "    print(\"=\" * 60)\n",
        "\n",
        "    if recommendations.empty:\n",
        "        print(\"   No new recommendations available (user may have visited most destinations).\")\n",
        "        return\n",
        "\n",
        "    for i, (destination, score) in enumerate(recommendations.items(), 1):\n",
        "        dest_details = get_destination_details(destination, destinations_df)\n",
        "        if dest_details is not None:\n",
        "            print(f\"{i}. {destination}\")\n",
        "            print(f\"   📍 Location: {dest_details['city']}\")\n",
        "            print(f\"   🏷️  Category: {dest_details['category']}\")\n",
        "            print(f\"   ⭐ Rating: {dest_details['rating']}/5.0\")\n",
        "            print(f\"   🎯 Recommendation Score: {score:.3f}\")\n",
        "            print()"
      ],
      "metadata": {
        "id": "iIfqMnBmh4Z2"
      },
      "id": "iIfqMnBmh4Z2",
      "execution_count": 70,
      "outputs": []
    },
    {
      "cell_type": "code",
      "source": [
        "# Generate recommendations for each user\n",
        "print(\"\\n🚀 Generating Destination Recommendations...\")\n",
        "print(\"=\" * 50)\n",
        "\n",
        "for user in users:\n",
        "    # Find similar users\n",
        "    neighbors = get_k_nearest_neighbors(similarity_matrix, user, k=2)\n",
        "    print(f\"\\n👤 {user}:\")\n",
        "    if not neighbors.empty and neighbors.max() > 0:\n",
        "        neighbor_names = [name for name, score in neighbors.items() if score > 0]\n",
        "        neighbor_scores = [score for score in neighbors.values if score > 0]\n",
        "        print(f\"   Most similar travelers: {neighbor_names}\")\n",
        "        print(f\"   Similarity scores: {[round(score, 3) for score in neighbor_scores]}\")\n",
        "    else:\n",
        "        print(\"   No similar travelers found with positive correlation.\")\n",
        "\n",
        "    # Get recommendations\n",
        "    recommendations = recommend_destinations(ratings_matrix, similarity_matrix, user, k=2, top_n=3)\n",
        "    display_recommendations(user, recommendations, destinations_df)"
      ],
      "metadata": {
        "colab": {
          "base_uri": "https://localhost:8080/"
        },
        "id": "pZpAU3Vih8LP",
        "outputId": "7d2a2309-fbee-488c-9811-ad24ccd9f725"
      },
      "id": "pZpAU3Vih8LP",
      "execution_count": 71,
      "outputs": [
        {
          "output_type": "stream",
          "name": "stdout",
          "text": [
            "\n",
            "🚀 Generating Destination Recommendations...\n",
            "==================================================\n",
            "\n",
            "👤 Traveler_A:\n",
            "   Most similar travelers: ['Traveler_E', 'Traveler_C']\n",
            "   Similarity scores: [np.float64(0.866), np.float64(0.577)]\n",
            "\n",
            "🎯 Top Destination Recommendations for Traveler_A:\n",
            "============================================================\n",
            "1. Alibaug Beach\n",
            "   📍 Location: Alibaug\n",
            "   🏷️  Category: Beach Resort\n",
            "   ⭐ Rating: 4.0/5.0\n",
            "   🎯 Recommendation Score: 3.000\n",
            "\n",
            "2. Nashik Sula Vineyards\n",
            "   📍 Location: Nashik\n",
            "   🏷️  Category: Wine Tourism\n",
            "   ⭐ Rating: 4.1/5.0\n",
            "   🎯 Recommendation Score: 2.400\n",
            "\n",
            "3. Lavasa Hill City\n",
            "   📍 Location: Lavasa\n",
            "   🏷️  Category: Modern Hill City\n",
            "   ⭐ Rating: 3.9/5.0\n",
            "   🎯 Recommendation Score: 1.600\n",
            "\n",
            "\n",
            "👤 Traveler_B:\n",
            "   No similar travelers found with positive correlation.\n",
            "\n",
            "🎯 Top Destination Recommendations for Traveler_B:\n",
            "============================================================\n",
            "   No new recommendations available (user may have visited most destinations).\n",
            "\n",
            "👤 Traveler_C:\n",
            "   Most similar travelers: ['Traveler_A']\n",
            "   Similarity scores: [np.float64(0.577)]\n",
            "\n",
            "🎯 Top Destination Recommendations for Traveler_C:\n",
            "============================================================\n",
            "1. Gateway of India, Mumbai\n",
            "   📍 Location: Mumbai\n",
            "   🏷️  Category: Historical Monument\n",
            "   ⭐ Rating: 4.3/5.0\n",
            "   🎯 Recommendation Score: 5.000\n",
            "\n",
            "2. Marine Drive, Mumbai\n",
            "   📍 Location: Mumbai\n",
            "   🏷️  Category: Waterfront\n",
            "   ⭐ Rating: 4.4/5.0\n",
            "   🎯 Recommendation Score: 5.000\n",
            "\n",
            "3. Elephanta Caves, Mumbai\n",
            "   📍 Location: Mumbai\n",
            "   🏷️  Category: UNESCO Heritage\n",
            "   ⭐ Rating: 4.3/5.0\n",
            "   🎯 Recommendation Score: 4.000\n",
            "\n",
            "\n",
            "👤 Traveler_D:\n",
            "   Most similar travelers: ['Traveler_F']\n",
            "   Similarity scores: [np.float64(1.0)]\n",
            "\n",
            "🎯 Top Destination Recommendations for Traveler_D:\n",
            "============================================================\n",
            "1. Elephanta Caves, Mumbai\n",
            "   📍 Location: Mumbai\n",
            "   🏷️  Category: UNESCO Heritage\n",
            "   ⭐ Rating: 4.3/5.0\n",
            "   🎯 Recommendation Score: 5.000\n",
            "\n",
            "2. Ajanta Caves, Aurangabad\n",
            "   📍 Location: Aurangabad\n",
            "   🏷️  Category: UNESCO Heritage\n",
            "   ⭐ Rating: 4.6/5.0\n",
            "   🎯 Recommendation Score: 4.000\n",
            "\n",
            "3. Ellora Caves, Aurangabad\n",
            "   📍 Location: Aurangabad\n",
            "   🏷️  Category: UNESCO Heritage\n",
            "   ⭐ Rating: 4.7/5.0\n",
            "   🎯 Recommendation Score: 4.000\n",
            "\n",
            "\n",
            "👤 Traveler_E:\n",
            "   Most similar travelers: ['Traveler_A']\n",
            "   Similarity scores: [np.float64(0.866)]\n",
            "\n",
            "🎯 Top Destination Recommendations for Traveler_E:\n",
            "============================================================\n",
            "1. Elephanta Caves, Mumbai\n",
            "   📍 Location: Mumbai\n",
            "   🏷️  Category: UNESCO Heritage\n",
            "   ⭐ Rating: 4.3/5.0\n",
            "   🎯 Recommendation Score: 4.000\n",
            "\n",
            "2. Matheran Hill Station\n",
            "   📍 Location: Matheran\n",
            "   🏷️  Category: Hill Station\n",
            "   ⭐ Rating: 4.5/5.0\n",
            "   🎯 Recommendation Score: 4.000\n",
            "\n",
            "3. Mahabaleshwar\n",
            "   📍 Location: Mahabaleshwar\n",
            "   🏷️  Category: Hill Station\n",
            "   ⭐ Rating: 4.4/5.0\n",
            "   🎯 Recommendation Score: 3.000\n",
            "\n",
            "\n",
            "👤 Traveler_F:\n",
            "   Most similar travelers: ['Traveler_D']\n",
            "   Similarity scores: [np.float64(1.0)]\n",
            "\n",
            "🎯 Top Destination Recommendations for Traveler_F:\n",
            "============================================================\n",
            "1. Shirdi Sai Baba Temple\n",
            "   📍 Location: Shirdi\n",
            "   🏷️  Category: Religious Site\n",
            "   ⭐ Rating: 4.5/5.0\n",
            "   🎯 Recommendation Score: 5.000\n",
            "\n",
            "2. Bhimashankar Temple\n",
            "   📍 Location: Bhimashankar\n",
            "   🏷️  Category: Religious Site\n",
            "   ⭐ Rating: 4.6/5.0\n",
            "   🎯 Recommendation Score: 5.000\n",
            "\n",
            "3. Kolhapur Mahalaxmi Temple\n",
            "   📍 Location: Kolhapur\n",
            "   🏷️  Category: Religious Site\n",
            "   ⭐ Rating: 4.4/5.0\n",
            "   🎯 Recommendation Score: 4.000\n",
            "\n"
          ]
        }
      ]
    },
    {
      "cell_type": "code",
      "source": [
        "# Function to analyze user preferences\n",
        "def analyze_user_preferences(user, ratings_matrix, destinations_df):\n",
        "    \"\"\"Analyze what types of destinations a user prefers\"\"\"\n",
        "    user_ratings = ratings_matrix.loc[user]\n",
        "    visited_destinations = user_ratings[user_ratings > 0]\n",
        "\n",
        "    if visited_destinations.empty:\n",
        "        return \"No destinations rated yet.\"\n",
        "\n",
        "    # Get categories of visited destinations\n",
        "    visited_names = visited_destinations.index\n",
        "    categories = []\n",
        "    cities = []\n",
        "\n",
        "    for dest_name in visited_names:\n",
        "        dest_info = destinations_df[destinations_df['name'] == dest_name]\n",
        "        if not dest_info.empty:\n",
        "            categories.append(dest_info.iloc[0]['category'])\n",
        "            cities.append(dest_info.iloc[0]['city'])\n",
        "\n",
        "    # Count preferences\n",
        "    category_counts = pd.Series(categories).value_counts()\n",
        "    city_counts = pd.Series(cities).value_counts()\n",
        "\n",
        "    return {\n",
        "        'preferred_categories': category_counts,\n",
        "        'preferred_cities': city_counts,\n",
        "        'average_rating': visited_destinations.mean(),\n",
        "        'total_visited': len(visited_destinations)\n",
        "    }"
      ],
      "metadata": {
        "id": "Nms6HvRmiBPP"
      },
      "id": "Nms6HvRmiBPP",
      "execution_count": 72,
      "outputs": []
    },
    {
      "cell_type": "code",
      "source": [
        "# Analyze preferences for each user\n",
        "print(\"\\n📈 User Preference Analysis:\")\n",
        "print(\"=\" * 40)\n",
        "\n",
        "for user in users:\n",
        "    preferences = analyze_user_preferences(user, ratings_matrix, destinations_df)\n",
        "    print(f\"\\n👤 {user}:\")\n",
        "    if isinstance(preferences, dict):\n",
        "        print(f\"   Destinations visited: {preferences['total_visited']}\")\n",
        "        print(f\"   Average rating given: {preferences['average_rating']:.1f}/5.0\")\n",
        "        print(f\"   Preferred categories: {dict(preferences['preferred_categories'])}\")\n",
        "        print(f\"   Preferred cities: {dict(preferences['preferred_cities'])}\")"
      ],
      "metadata": {
        "colab": {
          "base_uri": "https://localhost:8080/"
        },
        "id": "5GB7GFduiGEX",
        "outputId": "903a1477-87d1-4f63-f3ec-9d41bdedd83a"
      },
      "id": "5GB7GFduiGEX",
      "execution_count": 73,
      "outputs": [
        {
          "output_type": "stream",
          "name": "stdout",
          "text": [
            "\n",
            "📈 User Preference Analysis:\n",
            "========================================\n",
            "\n",
            "👤 Traveler_A:\n",
            "   Destinations visited: 7\n",
            "   Average rating given: 4.0/5.0\n",
            "   Preferred categories: {'Hill Station': np.int64(4), 'Historical Monument': np.int64(1), 'UNESCO Heritage': np.int64(1), 'Waterfront': np.int64(1)}\n",
            "   Preferred cities: {'Mumbai': np.int64(3), 'Lonavala': np.int64(1), 'Mahabaleshwar': np.int64(1), 'Matheran': np.int64(1), 'Panchgani': np.int64(1)}\n",
            "\n",
            "👤 Traveler_B:\n",
            "   Destinations visited: 4\n",
            "   Average rating given: 4.5/5.0\n",
            "   Preferred categories: {'UNESCO Heritage': np.int64(3), 'Historical Monument': np.int64(1)}\n",
            "   Preferred cities: {'Aurangabad': np.int64(3), 'Mumbai': np.int64(1)}\n",
            "\n",
            "👤 Traveler_C:\n",
            "   Destinations visited: 6\n",
            "   Average rating given: 4.3/5.0\n",
            "   Preferred categories: {'Hill Station': np.int64(4), 'Historical Fort': np.int64(1), 'Modern Hill City': np.int64(1)}\n",
            "   Preferred cities: {'Lonavala': np.int64(1), 'Mahabaleshwar': np.int64(1), 'Raigad': np.int64(1), 'Matheran': np.int64(1), 'Panchgani': np.int64(1), 'Lavasa': np.int64(1)}\n",
            "\n",
            "👤 Traveler_D:\n",
            "   Destinations visited: 8\n",
            "   Average rating given: 4.0/5.0\n",
            "   Preferred categories: {'Religious Site': np.int64(3), 'Historical Monument': np.int64(2), 'Historical Fort': np.int64(2), 'Historical Palace': np.int64(1)}\n",
            "   Preferred cities: {'Pune': np.int64(3), 'Mumbai': np.int64(1), 'Shirdi': np.int64(1), 'Raigad': np.int64(1), 'Kolhapur': np.int64(1), 'Bhimashankar': np.int64(1)}\n",
            "\n",
            "👤 Traveler_E:\n",
            "   Destinations visited: 5\n",
            "   Average rating given: 4.2/5.0\n",
            "   Preferred categories: {'Historical Monument': np.int64(1), 'Hill Station': np.int64(1), 'Waterfront': np.int64(1), 'Wine Tourism': np.int64(1), 'Beach Resort': np.int64(1)}\n",
            "   Preferred cities: {'Mumbai': np.int64(2), 'Lonavala': np.int64(1), 'Nashik': np.int64(1), 'Alibaug': np.int64(1)}\n",
            "\n",
            "👤 Traveler_F:\n",
            "   Destinations visited: 8\n",
            "   Average rating given: 4.4/5.0\n",
            "   Preferred categories: {'UNESCO Heritage': np.int64(3), 'Historical Monument': np.int64(2), 'Historical Fort': np.int64(2), 'Historical Palace': np.int64(1)}\n",
            "   Preferred cities: {'Aurangabad': np.int64(3), 'Pune': np.int64(3), 'Mumbai': np.int64(1), 'Raigad': np.int64(1)}\n"
          ]
        }
      ]
    },
    {
      "cell_type": "code",
      "source": [
        "# Function to recommend destinations by category\n",
        "def recommend_by_category(category, destinations_df, top_n=5):\n",
        "    \"\"\"Recommend top destinations by category\"\"\"\n",
        "    category_destinations = destinations_df[destinations_df['category'] == category]\n",
        "    return category_destinations.nlargest(top_n, 'rating')[['name', 'city', 'rating']]\n",
        "\n",
        "print(\"\\n🏷️ Top Destinations by Category:\")\n",
        "print(\"=\" * 35)\n",
        "\n",
        "categories = destinations_df['category'].unique()\n",
        "for category in categories:\n",
        "    print(f\"\\n📍 {category}:\")\n",
        "    top_destinations = recommend_by_category(category, destinations_df, top_n=3)\n",
        "    for _, dest in top_destinations.iterrows():\n",
        "        print(f\"   • {dest['name']} - {dest['city']} (⭐ {dest['rating']})\")\n",
        "\n",
        "print(\"\\n✅ Travel Destination Recommendation System Complete!\")\n",
        "print(\"🎯 This system helps travelers discover new destinations based on similar users' preferences.\")"
      ],
      "metadata": {
        "colab": {
          "base_uri": "https://localhost:8080/"
        },
        "id": "4ucVwi_9g_u7",
        "outputId": "f434a344-902b-4860-ab38-52978538d7a3"
      },
      "id": "4ucVwi_9g_u7",
      "execution_count": 74,
      "outputs": [
        {
          "output_type": "stream",
          "name": "stdout",
          "text": [
            "\n",
            "🏷️ Top Destinations by Category:\n",
            "===================================\n",
            "\n",
            "📍 Historical Monument:\n",
            "   • Gateway of India, Mumbai - Mumbai (⭐ 4.3)\n",
            "   • Aurangabad Bibi Ka Maqbara - Aurangabad (⭐ 4.2)\n",
            "   • Shaniwar Wada, Pune - Pune (⭐ 4.1)\n",
            "\n",
            "📍 UNESCO Heritage:\n",
            "   • Ellora Caves, Aurangabad - Aurangabad (⭐ 4.7)\n",
            "   • Ajanta Caves, Aurangabad - Aurangabad (⭐ 4.6)\n",
            "   • Elephanta Caves, Mumbai - Mumbai (⭐ 4.3)\n",
            "\n",
            "📍 Hill Station:\n",
            "   • Matheran Hill Station - Matheran (⭐ 4.5)\n",
            "   • Mahabaleshwar - Mahabaleshwar (⭐ 4.4)\n",
            "   • Panchgani Hill Station - Panchgani (⭐ 4.3)\n",
            "\n",
            "📍 Religious Site:\n",
            "   • Bhimashankar Temple - Bhimashankar (⭐ 4.6)\n",
            "   • Shirdi Sai Baba Temple - Shirdi (⭐ 4.5)\n",
            "   • Kolhapur Mahalaxmi Temple - Kolhapur (⭐ 4.4)\n",
            "\n",
            "📍 Historical Fort:\n",
            "   • Sinhagad Fort, Pune - Pune (⭐ 4.3)\n",
            "   • Raigad Fort - Raigad (⭐ 4.2)\n",
            "\n",
            "📍 Waterfront:\n",
            "   • Marine Drive, Mumbai - Mumbai (⭐ 4.4)\n",
            "\n",
            "📍 Historical Palace:\n",
            "   • Aga Khan Palace, Pune - Pune (⭐ 4.0)\n",
            "\n",
            "📍 Wine Tourism:\n",
            "   • Nashik Sula Vineyards - Nashik (⭐ 4.1)\n",
            "\n",
            "📍 Beach Resort:\n",
            "   • Alibaug Beach - Alibaug (⭐ 4.0)\n",
            "\n",
            "📍 Modern Hill City:\n",
            "   • Lavasa Hill City - Lavasa (⭐ 3.9)\n",
            "\n",
            "✅ Travel Destination Recommendation System Complete!\n",
            "🎯 This system helps travelers discover new destinations based on similar users' preferences.\n"
          ]
        }
      ]
    }
  ],
  "metadata": {
    "colab": {
      "provenance": []
    },
    "language_info": {
      "name": "python"
    },
    "kernelspec": {
      "name": "python3",
      "display_name": "Python 3"
    }
  },
  "nbformat": 4,
  "nbformat_minor": 5
}